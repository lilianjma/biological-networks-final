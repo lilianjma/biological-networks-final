{
 "cells": [
  {
   "cell_type": "code",
   "execution_count": 61,
   "id": "5232574c-196a-4e2d-a08e-308a57a761d6",
   "metadata": {},
   "outputs": [],
   "source": [
    "import scipy.io\n",
    "import numpy as np\n",
    "import networkx as nx\n",
    "import os\n",
    "import pandas as pd\n",
    "from sklearn.cluster import SpectralClustering\n",
    "# import community  # Install using: pip install python-louvain\n",
    "import matplotlib.pyplot as plt"
   ]
  },
  {
   "cell_type": "code",
   "execution_count": 51,
   "id": "91841f35-9210-4fb1-aa69-f36990d555f6",
   "metadata": {},
   "outputs": [],
   "source": [
    "##########################################################################################\n",
    "#                                    ALL FUNCTIONS\n",
    "##########################################################################################\n",
    "\n",
    "def get_graph_from_file(file, flag):\n",
    "    if flag:\n",
    "        print(f'Reading the network file: {file}\\n')\n",
    "    \n",
    "    return nx.read_weighted_edgelist(file, nodetype=str)\n",
    "\n",
    "\n",
    "def graph_properties(G, flag, file):\n",
    "    '''\n",
    "    Parameters:\n",
    "        G (graph)\n",
    "        flag (int): flag=1 to print graph stats, 0 else\n",
    "    '''\n",
    "    \n",
    "    n = len(G.nodes())\n",
    "    m = len(G.edges())\n",
    "    C = nx.transitivity(G)\n",
    "    degrees = nx.degree(G)\n",
    "    kis = [k for _,k in degrees]\n",
    "    kstd = np.std(kis)\n",
    "    kmean = np.mean(kis)\n",
    "    max_edges = n * (n - 1) / 2\n",
    "    edge_density = m / max_edges\n",
    "    if nx.is_connected(G):\n",
    "        average_shortest_path_length = nx.average_shortest_path_length(G, weight='weight')\n",
    "    else :\n",
    "        average_shortest_path_length = 0\n",
    "    \n",
    "    betweenness = nx.betweenness_centrality(G, weight='weight')\n",
    "    non_zero_betweenness = [value for value in betweenness.values() if value != 0]\n",
    "    avg_betweenness_centrality = np.mean(non_zero_betweenness)\n",
    "\n",
    "    total_weight = sum(data['weight'] for _, _, data in G.edges(data=True))\n",
    "    average_edge_weight = total_weight / G.number_of_edges()\n",
    "\n",
    "    if flag:\n",
    "        print(\"Number of nodes (n):\", n)\n",
    "        print(\"Number of edges (m):\", m)\n",
    "        print(\"Clustering Coefficient (C):\", C)\n",
    "        print(\"Mean Degree (kmean):\", kmean)\n",
    "        print(\"Degree STD (kstd):\", kstd)\n",
    "        print(\"Edge density (D):\", edge_density)\n",
    "        print(\"Average shortest path length: \", average_shortest_path_length)\n",
    "        print(\"Average betweeness centrality: \", avg_betweenness_centrality)\n",
    "        print(\"Average edge weight: \", average_edge_weight)\n",
    "        print(\"\\n\")\n",
    "        \n",
    "    return [C,kstd,kmean,edge_density,average_shortest_path_length,\n",
    "            avg_betweenness_centrality,average_edge_weight, file]\n",
    "\n",
    "\n",
    "def get_all_vectors(directory, flag):\n",
    "    '''\n",
    "    Parameters:\n",
    "        directory path (string)\n",
    "        flag (int): flag=1 to print graph stats, 0 else\n",
    "    '''\n",
    "    files = os.listdir(directory)  # Slicing should be done after calling listdir()\n",
    "    all_graphs = []\n",
    "    all_graphs_properties = []\n",
    "    \n",
    "    flag_count = 0\n",
    "    files = list(set(files))\n",
    "    \n",
    "    for file in files:\n",
    "        file_pathway = directory+file\n",
    "        if flag_count >= 5:\n",
    "            flag = 0\n",
    "            break\n",
    "            \n",
    "        G = get_graph_from_file(file_pathway, flag) \n",
    "        p = graph_properties(G, flag, file)\n",
    "        all_graphs.append(G)\n",
    "        all_graphs_properties.append(p)\n",
    "        flag_count += 1\n",
    "        \n",
    "    return all_graphs_properties\n",
    "\n",
    "def lower_distance_matrix(df):\n",
    "    \"\"\"\n",
    "    Calculate the lower half of the distance matrix for vectors stored in a DataFrame using Euclidean\n",
    "    \n",
    "    Args:\n",
    "        df (pandas.DataFrame): DataFrame containing vectors as rows.\n",
    "        \n",
    "    Returns:\n",
    "        pandas.DataFrame: Lower half of the distance matrix.\n",
    "    \"\"\"\n",
    "    \n",
    "    num_rows = df.shape[0]\n",
    "    distance_matrix = np.zeros((num_rows, num_rows))\n",
    "    \n",
    "    # Calculate pairwise distances\n",
    "    for i in range(num_rows):\n",
    "        for j in range(i):\n",
    "            distance_matrix[i, j] = euclidean_distance(df.iloc[i], df.iloc[j])\n",
    "    \n",
    "    # Convert to DataFrame with filename as index\n",
    "    distance_df = pd.DataFrame(distance_matrix, index=df.index, columns=df.index)\n",
    "    \n",
    "    return distance_df\n"
   ]
  },
  {
   "cell_type": "code",
   "execution_count": 89,
   "id": "efcf9ec8-ecd6-4d7c-aac1-69f00689f88d",
   "metadata": {},
   "outputs": [],
   "source": [
    "# A Quick Implementation of UPGMA (Unweighted Pair Group Method with Arithmetic Mean)\n",
    "\n",
    "# lowest_cell:\n",
    "#   Locates the smallest cell in the table\n",
    "def lowest_cell(table):\n",
    "    # Set default to infinity\n",
    "    min_cell = float(\"inf\")\n",
    "    x, y = -1, -1\n",
    "\n",
    "    # Go through every cell, looking for the lowest\n",
    "    for i in range(len(table)):\n",
    "        for j in range(len(table[i])):\n",
    "            if table[i][j] < min_cell:\n",
    "                min_cell = table[i][j]\n",
    "                x, y = i, j\n",
    "\n",
    "    # Return the x, y co-ordinate of cell\n",
    "    return x, y\n",
    "\n",
    "\n",
    "# join_labels:\n",
    "#   Combines two labels in a list of labels\n",
    "def join_labels(labels, a, b):\n",
    "    # Swap if the indices are not ordered\n",
    "    if b < a:\n",
    "        a, b = b, a\n",
    "\n",
    "    # Join the labels in the first index\n",
    "    labels[a] = \"(\" + labels[a] + \",\" + labels[b] + \")\"\n",
    "\n",
    "    # Remove the (now redundant) label in the second index\n",
    "    del labels[b]\n",
    "\n",
    "\n",
    "# join_table:\n",
    "#   Joins the entries of a table on the cell (a, b) by averaging their data entries\n",
    "def join_table(table, a, b):\n",
    "    # Swap if the indices are not ordered\n",
    "    if b < a:\n",
    "        a, b = b, a\n",
    "\n",
    "    # For the lower index, reconstruct the entire row (A, i), where i < A\n",
    "    row = []\n",
    "    for i in range(0, a):\n",
    "        row.append((table[a][i] + table[b][i])/2)\n",
    "    table[a] = row\n",
    "    \n",
    "    # Then, reconstruct the entire column (i, A), where i > A\n",
    "    #   Note: Since the matrix is lower triangular, row b only contains values for indices < b\n",
    "    for i in range(a+1, b):\n",
    "        table[i][a] = (table[i][a]+table[b][i])/2\n",
    "        \n",
    "    #   We get the rest of the values from row i\n",
    "    for i in range(b+1, len(table)):\n",
    "        table[i][a] = (table[i][a]+table[i][b])/2\n",
    "        # Remove the (now redundant) second index column entry\n",
    "        del table[i][b]\n",
    "\n",
    "    # Remove the (now redundant) second index row\n",
    "    del table[b]\n",
    "\n",
    "\n",
    "# UPGMA:\n",
    "#   Runs the UPGMA algorithm on a labelled table\n",
    "def UPGMA(table, labels):\n",
    "    # Until all labels have been joined...\n",
    "    while len(labels) > 1:\n",
    "        # Locate lowest cell in the table\n",
    "        x, y = lowest_cell(table)\n",
    "\n",
    "        # Join the table on the cell co-ordinates\n",
    "        join_table(table, x, y)\n",
    "\n",
    "        # Update the labels accordingly\n",
    "        join_labels(labels, x, y)\n",
    "\n",
    "    # Return the final label\n",
    "    return labels[0]\n",
    "\n",
    "\n",
    "## A test using an example calculation from http://www.nmsr.org/upgma.htm\n",
    "\n",
    "# alpha_labels:\n",
    "#   Makes labels from a starting letter to an ending letter\n",
    "def alpha_labels(start, end):\n",
    "    labels = []\n",
    "    for i in range(ord(start), ord(end)+1):\n",
    "        labels.append(i)\n",
    "    return labels\n",
    "\n",
    "def lower_distance_to_M_data(lower_distance_df):\n",
    "    \"\"\"\n",
    "    Convert lower distance DataFrame to M_data format for UPGMA.\n",
    "    \n",
    "    Args:\n",
    "        lower_distance_df (pandas.DataFrame): Lower half of the distance matrix.\n",
    "        \n",
    "    Returns:\n",
    "        list: M_data list for UPGMA.\n",
    "    \"\"\"\n",
    "    M_data = []\n",
    "    num_rows = lower_distance_df.shape[0]\n",
    "    for i in range(num_rows):\n",
    "        row_data = []\n",
    "        for j in range(i):\n",
    "            row_data.append(lower_distance_df.iloc[i, j])\n",
    "        M_data.append(row_data)\n",
    "    return M_data"
   ]
  },
  {
   "cell_type": "code",
   "execution_count": 35,
   "id": "52b36320-d155-4440-907f-41daddfdcca3",
   "metadata": {
    "tags": []
   },
   "outputs": [],
   "source": [
    "####### Helpers for clustering #######\n",
    "\n",
    "# def louvain_clustering(G, flag):\n",
    "#     partition = community.best_partition(G)\n",
    "#     num_clusters = len(set(partition.values())) # Count the number of unique community IDs\\\n",
    "\n",
    "#     if flag:\n",
    "#         # Draw the graph with nodes colored by community\n",
    "#         pos = nx.spring_layout(G)  # Positions for all nodes\n",
    "#         plt.figure(figsize=(8, 6))\n",
    "\n",
    "#         # Draw nodes, coloring them by community\n",
    "#         node_colors = [partition[n] for n in G.nodes()]\n",
    "#         nx.draw(G, pos, node_color=node_colors, cmap=plt.cm.tab10, node_size=20)\n",
    "\n",
    "#         plt.title(\"Graph with Nodes Colored by Community (Louvain Method)\")\n",
    "#         plt.show()\n",
    "        \n",
    "#     return partition, num_clusters"
   ]
  },
  {
   "cell_type": "code",
   "execution_count": 30,
   "id": "192c69c8-4c32-4881-beda-d8719a9e7704",
   "metadata": {},
   "outputs": [],
   "source": [
    "# G = nx.karate_club_graph"
   ]
  },
  {
   "cell_type": "code",
   "execution_count": 31,
   "id": "8c1c75d2-3ae6-4e96-b329-16790fc3a9e7",
   "metadata": {},
   "outputs": [
    {
     "name": "stdout",
     "output_type": "stream",
     "text": [
      "Reading the network file: fungal_networks_data/Conductance_Text_Files/Sc_M_I_U_N_42d_1.txt\n",
      "\n"
     ]
    }
   ],
   "source": [
    "# fname1 = 'fungal_networks_data/Conductance_Text_Files/Sc_M_I_U_N_42d_1.txt'\n",
    "# G = get_graph_from_file(fname1, fname1)"
   ]
  },
  {
   "cell_type": "code",
   "execution_count": 32,
   "id": "cabb889c-c86e-4974-87cd-0fb98987ec9d",
   "metadata": {},
   "outputs": [
    {
     "name": "stdout",
     "output_type": "stream",
     "text": [
      "Number of nodes (n): 536\n",
      "Number of edges (m): 689\n",
      "Clustering Coefficient (C): 0.08066581306017925\n",
      "Mean Degree (kmean): 2.5708955223880596\n",
      "Degree STD (kstd): 1.3378153625625286\n",
      "Edge density (D): 0.0048054121913795505\n",
      "Average shortest path length:  0.9921940403124676\n",
      "Average betweeness centrality:  0.03839205877954172\n",
      "Average edge weight:  0.11330391872278674\n",
      "\n",
      "\n"
     ]
    },
    {
     "data": {
      "text/plain": [
       "[0.08066581306017925,\n",
       " 1.3378153625625286,\n",
       " 2.5708955223880596,\n",
       " 0.0048054121913795505,\n",
       " 0.9921940403124676,\n",
       " 0.03839205877954172,\n",
       " 0.11330391872278674,\n",
       " 'fungal_networks_data/Conductance_Text_Files/Sc_M_I_U_N_42d_1.txt']"
      ]
     },
     "execution_count": 32,
     "metadata": {},
     "output_type": "execute_result"
    }
   ],
   "source": [
    "#########    TEST HELPER FUNCTIONS FOR ONE FILE    #########\n",
    "\n",
    "# partition, num_clusters = louvain_clustering(G, 1)\n",
    "graph_properties(G, 1, fname1)\n",
    "# print(f'Number of clusters = {num_clusters}')"
   ]
  },
  {
   "cell_type": "code",
   "execution_count": 90,
   "id": "fba2ddd8-6529-4f58-9615-b59eaedcaa29",
   "metadata": {},
   "outputs": [
    {
     "name": "stdout",
     "output_type": "stream",
     "text": [
      "                                  C      kstd     kmean  edge_density  \\\n",
      "file                                                                    \n",
      "Pv_L_I+4xR_Fc_N_78d_1.txt  0.081688  1.044973  2.561525      0.004447   \n",
      "Pv_M_I_U_N_19d_2.txt       0.053070  1.234588  2.247748      0.005074   \n",
      "Pv_M_5xI_U_N_22d_3.txt     0.083542  1.122883  2.555283      0.002094   \n",
      "Pv_M_I_U_N_43d_3.txt       0.075055  1.175252  2.386540      0.002061   \n",
      "Pp_M_Tokyo_U_N_26h_7.txt   0.201342  0.855373  3.197917      0.016743   \n",
      "\n",
      "                           average_shortest_path_length  \\\n",
      "file                                                      \n",
      "Pv_L_I+4xR_Fc_N_78d_1.txt                      0.000000   \n",
      "Pv_M_I_U_N_19d_2.txt                           0.005051   \n",
      "Pv_M_5xI_U_N_22d_3.txt                         0.000000   \n",
      "Pv_M_I_U_N_43d_3.txt                           0.005891   \n",
      "Pp_M_Tokyo_U_N_26h_7.txt                   37208.881893   \n",
      "\n",
      "                           avg_betweenness_centrality  average_edge_weight  \n",
      "file                                                                        \n",
      "Pv_L_I+4xR_Fc_N_78d_1.txt                    0.056977             0.008252  \n",
      "Pv_M_I_U_N_19d_2.txt                         0.040281             0.000337  \n",
      "Pv_M_5xI_U_N_22d_3.txt                       0.030584             0.002475  \n",
      "Pv_M_I_U_N_43d_3.txt                         0.022914             0.000355  \n",
      "Pp_M_Tokyo_U_N_26h_7.txt                     0.091273         11244.072697  \n"
     ]
    }
   ],
   "source": [
    "##################     GET ALL GRAPHS AND PROPERTIES     ##################\n",
    "flag = 0\n",
    "directory = 'fungal_networks_data/Conductance_Text_Files/'\n",
    "gmatrix = get_all_vectors(directory, flag)\n",
    "column_names = ['C', 'kstd', 'kmean', 'edge_density','average_shortest_path_length','avg_betweenness_centrality','average_edge_weight','file']\n",
    "df = pd.DataFrame(gmatrix, columns=column_names)\n",
    "df.set_index('file', inplace=True)\n",
    "\n",
    "print(df)"
   ]
  },
  {
   "cell_type": "code",
   "execution_count": 91,
   "id": "22097558-0fdf-46d6-9f26-25ec80d58d6e",
   "metadata": {},
   "outputs": [
    {
     "name": "stdout",
     "output_type": "stream",
     "text": [
      "file                       Pv_L_I+4xR_Fc_N_78d_1.txt  Pv_M_I_U_N_19d_2.txt  Pv_M_5xI_U_N_22d_3.txt  Pv_M_I_U_N_43d_3.txt  Pp_M_Tokyo_U_N_26h_7.txt\n",
      "file                                                                                                                                              \n",
      "Pv_L_I+4xR_Fc_N_78d_1.txt                       0.00                  0.00                    0.00                  0.00                      0.00\n",
      "Pv_M_I_U_N_19d_2.txt                            0.37                  0.00                    0.00                  0.00                      0.00\n",
      "Pv_M_5xI_U_N_22d_3.txt                          0.08                  0.33                    0.00                  0.00                      0.00\n",
      "Pv_M_I_U_N_43d_3.txt                            0.22                  0.15                    0.18                  0.00                      0.00\n",
      "Pp_M_Tokyo_U_N_26h_7.txt                    38870.68              38870.68                38870.68              38870.68                      0.00\n",
      "Fin\n"
     ]
    }
   ],
   "source": [
    "##################     GET DISTANCE MATRIX     ##################\n",
    "lower_distance_df = lower_distance_matrix(df)\n",
    "print(lower_distance_df.to_string(float_format=lambda x: \"%.2f\" % x))\n",
    "\n",
    "\n",
    "##################     FINISHED     ##################\n",
    "print(\"Fin\")"
   ]
  },
  {
   "cell_type": "code",
   "execution_count": 92,
   "id": "9a69f462-dd0a-444b-829d-f95a5f039096",
   "metadata": {},
   "outputs": [
    {
     "data": {
      "text/plain": [
       "'(((Pv_L_I+4xR_Fc_N_78d_1.txt,Pv_M_5xI_U_N_22d_3.txt),(Pv_M_I_U_N_19d_2.txt,Pv_M_I_U_N_43d_3.txt)),Pp_M_Tokyo_U_N_26h_7.txt)'"
      ]
     },
     "execution_count": 92,
     "metadata": {},
     "output_type": "execute_result"
    }
   ],
   "source": [
    "##################     SMALL TEST ON THING       ##################\n",
    "\n",
    "M_labels = lower_distance_df.index.tolist()\n",
    "M = lower_distance_to_M_data(lower_distance_df)\n",
    "UPGMA(M, M_labels)"
   ]
  },
  {
   "cell_type": "code",
   "execution_count": 50,
   "id": "e76c3022-ed34-4330-83ef-2f5dc403c624",
   "metadata": {},
   "outputs": [
    {
     "data": {
      "text/plain": [
       "38870.68146369979"
      ]
     },
     "execution_count": 50,
     "metadata": {},
     "output_type": "execute_result"
    }
   ],
   "source": [
    "##################     TEST DIST BTWEEN TWO VECS     ##################\n",
    "\n",
    "vec1 = df.loc['Pp_M_Tokyo_U_N_26h_7.txt']\n",
    "vec2 = df.loc['Pv_L_I+4xR_Fc_N_78d_1.txt']\n",
    "dist = np.linalg.norm(vec1 - vec2)\n",
    "dist"
   ]
  },
  {
   "cell_type": "code",
   "execution_count": null,
   "id": "abf637c9-14cb-45e6-a554-1d7bbc214d25",
   "metadata": {},
   "outputs": [],
   "source": []
  }
 ],
 "metadata": {
  "kernelspec": {
   "display_name": "Python 3 (ipykernel)",
   "language": "python",
   "name": "python3"
  },
  "language_info": {
   "codemirror_mode": {
    "name": "ipython",
    "version": 3
   },
   "file_extension": ".py",
   "mimetype": "text/x-python",
   "name": "python",
   "nbconvert_exporter": "python",
   "pygments_lexer": "ipython3",
   "version": "3.10.8"
  }
 },
 "nbformat": 4,
 "nbformat_minor": 5
}
