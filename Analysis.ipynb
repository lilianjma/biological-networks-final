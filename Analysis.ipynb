{
 "cells": [
  {
   "cell_type": "code",
   "execution_count": 1,
   "id": "5232574c-196a-4e2d-a08e-308a57a761d6",
   "metadata": {},
   "outputs": [],
   "source": [
    "import scipy.io\n",
    "import numpy as np\n",
    "import networkx as nx"
   ]
  },
  {
   "cell_type": "code",
   "execution_count": 10,
   "id": "cabb889c-c86e-4974-87cd-0fb98987ec9d",
   "metadata": {},
   "outputs": [
    {
     "name": "stdout",
     "output_type": "stream",
     "text": [
      "reading the network file : fungal_networks_data/Conductance_Text_Files/Sc_M_I_U_N_42d_1.txt\n",
      "\n",
      "Number of nodes (n): 536\n",
      "Number of edges (m): 689\n"
     ]
    }
   ],
   "source": [
    "fname1 = 'fungal_networks_data/Conductance_Text_Files/Sc_M_I_U_N_42d_1.txt'\n",
    "\n",
    "# read in the network file (an edge list)\n",
    "print(f'reading the network file : {fname1}\\n')\n",
    "G = nx.read_weighted_edgelist(fname1, nodetype=str)\n",
    "\n",
    "n = len(G.nodes())\n",
    "m = len(G.edges())\n",
    "\n",
    "print(\"Number of nodes (n):\", n)\n",
    "print(\"Number of edges (m):\", m)"
   ]
  },
  {
   "cell_type": "code",
   "execution_count": null,
   "id": "fba2ddd8-6529-4f58-9615-b59eaedcaa29",
   "metadata": {},
   "outputs": [],
   "source": []
  }
 ],
 "metadata": {
  "kernelspec": {
   "display_name": "Python 3 (ipykernel)",
   "language": "python",
   "name": "python3"
  },
  "language_info": {
   "codemirror_mode": {
    "name": "ipython",
    "version": 3
   },
   "file_extension": ".py",
   "mimetype": "text/x-python",
   "name": "python",
   "nbconvert_exporter": "python",
   "pygments_lexer": "ipython3",
   "version": "3.10.8"
  }
 },
 "nbformat": 4,
 "nbformat_minor": 5
}
