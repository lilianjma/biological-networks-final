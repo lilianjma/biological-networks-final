{
 "cells": [
  {
   "cell_type": "code",
   "execution_count": 3,
   "id": "5232574c-196a-4e2d-a08e-308a57a761d6",
   "metadata": {},
   "outputs": [],
   "source": [
    "import scipy.io\n",
    "import numpy as np\n",
    "import networkx as nx\n",
    "import os"
   ]
  },
  {
   "cell_type": "code",
   "execution_count": 34,
   "id": "91841f35-9210-4fb1-aa69-f36990d555f6",
   "metadata": {},
   "outputs": [],
   "source": [
    "##########################################################################################\n",
    "#                                    HELPER FUNCTIONS\n",
    "##########################################################################################\n",
    "\n",
    "def get_graph_from_file(file):\n",
    "    fname1 = 'fungal_networks_data/Conductance_Text_Files/Sc_M_I_U_N_42d_1.txt'\n",
    "    \n",
    "    # print(f'reading the network file : {fname1}\\n')\n",
    "    return nx.read_weighted_edgelist(fname1, nodetype=str)\n",
    "\n",
    "def graph_properties(G, flag):\n",
    "    '''\n",
    "    Parameters:\n",
    "        G (graph)\n",
    "        flag (int): flag=1 to print graph stats, 0 else\n",
    "    '''\n",
    "    \n",
    "    n = len(G.nodes())\n",
    "    m = len(G.edges())\n",
    "    C = nx.transitivity(G)\n",
    "    degrees = nx.degree(G)\n",
    "    kis = [k for _,k in degrees]\n",
    "    kstd = np.std(kis)\n",
    "    kmean = np.mean(kis)\n",
    "    max_edges = n * (n - 1) / 2\n",
    "    edge_density = m / max_edges\n",
    "\n",
    "    if flag:\n",
    "        print(\"Number of nodes (n):\", n)\n",
    "        print(\"Number of edges (m):\", m)\n",
    "        print(\"Clustering Coefficient (C):\", C)\n",
    "        print(\"Mean Degree (kmean):\", kmean)\n",
    "        print(\"Degree STD (kstd):\", kstd)\n",
    "        print(\"Edge density (D):\", edge_density)\n",
    "        \n",
    "    return [n,m,C,degrees,kis,kstd,kmean,edge_density]"
   ]
  },
  {
   "cell_type": "code",
   "execution_count": 36,
   "id": "cabb889c-c86e-4974-87cd-0fb98987ec9d",
   "metadata": {},
   "outputs": [
    {
     "name": "stdout",
     "output_type": "stream",
     "text": [
      "Number of nodes (n): 536\n",
      "Number of edges (m): 689\n",
      "Clustering Coefficient (C): 0.08066581306017925\n",
      "Mean Degree (kmean): 2.5708955223880596\n",
      "Degree STD (kstd): 1.3378153625625286\n",
      "Edge density (D): 0.0048054121913795505\n",
      "End Test\n"
     ]
    }
   ],
   "source": [
    "#########    TEST HELPER FUNCTIONS FOR ONE FILE    #########\n",
    "\n",
    "fname1 = 'fungal_networks_data/Conductance_Text_Files/Sc_M_I_U_N_42d_1.txt'\n",
    "G = get_graph_from_file(fname1)\n",
    "graph_properties(G, 1)\n",
    "\n",
    "print(\"End Test\")"
   ]
  },
  {
   "cell_type": "code",
   "execution_count": 38,
   "id": "fba2ddd8-6529-4f58-9615-b59eaedcaa29",
   "metadata": {},
   "outputs": [],
   "source": [
    "#########     GET ALL GRAPHS AND PROPERTIES     #########\n",
    "\n",
    "directory = 'fungal_networks_data/Conductance_Text_Files/'\n",
    "files = os.listdir(directory)\n",
    "# all_graphs = list(get_graph_from_file(directory+file) for file in files)\n",
    "# all_graphs_properties = list(graph_properties(G, 0) for G in all_graphs)\n"
   ]
  }
 ],
 "metadata": {
  "kernelspec": {
   "display_name": "Python 3 (ipykernel)",
   "language": "python",
   "name": "python3"
  },
  "language_info": {
   "codemirror_mode": {
    "name": "ipython",
    "version": 3
   },
   "file_extension": ".py",
   "mimetype": "text/x-python",
   "name": "python",
   "nbconvert_exporter": "python",
   "pygments_lexer": "ipython3",
   "version": "3.10.8"
  }
 },
 "nbformat": 4,
 "nbformat_minor": 5
}
